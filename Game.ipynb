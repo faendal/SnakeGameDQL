{
 "cells": [
  {
   "cell_type": "code",
   "execution_count": 1,
   "metadata": {},
   "outputs": [
    {
     "name": "stdout",
     "output_type": "stream",
     "text": [
      "Using device: cuda\n"
     ]
    }
   ],
   "source": [
    "import torch\n",
    "from Models.GamePlayer import GamePlayer\n",
    "from Models.GameTrainer import GameTrainer\n",
    "\n",
    "device = torch.device(\"cuda\" if torch.cuda.is_available() else \"cpu\")\n",
    "print(f\"Using device: {device}\")"
   ]
  },
  {
   "cell_type": "code",
   "execution_count": null,
   "metadata": {},
   "outputs": [
    {
     "name": "stdout",
     "output_type": "stream",
     "text": [
      "Episode 50\tAverage Score: -30.53\n",
      "Episode 100\tAverage Score: -29.19\n",
      "Episode 150\tAverage Score: -26.47\n",
      "Episode 200\tAverage Score: -25.11\n",
      "Episode 250\tAverage Score: -25.01\n",
      "Episode 300\tAverage Score: -23.78\n"
     ]
    }
   ],
   "source": [
    "trainer = GameTrainer(\n",
    "    n_episodes=1200,\n",
    "    update_every=4,\n",
    "    buffer_size=100000,\n",
    "    batch_size=128,\n",
    "    gamma=0.99,\n",
    "    lr=1e-3,\n",
    "    tau=5e-3,\n",
    ")\n",
    "trainer.train()\n",
    "trainer.save_model(\"snake_dqn.pth\")"
   ]
  },
  {
   "cell_type": "code",
   "execution_count": 3,
   "metadata": {},
   "outputs": [],
   "source": [
    "player = GamePlayer(model_path=\"snake_dqn.pth\", fps=50)"
   ]
  },
  {
   "cell_type": "code",
   "execution_count": 9,
   "metadata": {},
   "outputs": [
    {
     "data": {
      "image/png": "[encoded data removed]",
      "text/plain": [
       "<Figure size 640x480 with 1 Axes>"
      ]
     },
     "metadata": {},
     "output_type": "display_data"
    },
    {
     "name": "stdout",
     "output_type": "stream",
     "text": [
      "Episode 1 finished with score: 1\n"
     ]
    }
   ],
   "source": [
    "player.play(episodes=1)"
   ]
  }
 ],
 "metadata": {
  "kernelspec": {
   "display_name": ".venv",
   "language": "python",
   "name": "python3"
  },
  "language_info": {
   "codemirror_mode": {
    "name": "ipython",
    "version": 3
   },
   "file_extension": ".py",
   "mimetype": "text/x-python",
   "name": "python",
   "nbconvert_exporter": "python",
   "pygments_lexer": "ipython3",
   "version": "3.12.9"
  }
 },
 "nbformat": 4,
 "nbformat_minor": 2
}
